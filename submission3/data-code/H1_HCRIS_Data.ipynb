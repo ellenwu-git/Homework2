{
 "cells": [
  {
   "cell_type": "code",
   "execution_count": 1,
   "metadata": {},
   "outputs": [],
   "source": [
    "import os \n",
    "import pandas as pd\n",
    "import numpy as np\n",
    "from IPython.display import Markdown, display\n",
    "import warnings\n",
    "warnings.simplefilter('ignore')"
   ]
  },
  {
   "cell_type": "code",
   "execution_count": 2,
   "metadata": {},
   "outputs": [
    {
     "name": "stdout",
     "output_type": "stream",
     "text": [
      "/Users/ellenwu/homework2-2/submission3/data-code\n"
     ]
    }
   ],
   "source": [
    "print(os.getcwd())\n"
   ]
  },
  {
   "cell_type": "code",
   "execution_count": null,
   "metadata": {},
   "outputs": [
    {
     "name": "stdout",
     "output_type": "stream",
     "text": [
      "True\n",
      "True\n"
     ]
    }
   ],
   "source": [
    "print(os.path.exists('/Users/ellenwu/homework2-2/data/*/input/HCRISv1996'))\n",
    "print(os.path.exists('/Users/ellenwu/homework2-2/data/*/input/HCRISv2010/HCRISv2010'))\n",
    "\n",
    "input(\"input to continue\")\n",
    "# Call individual scripts -------------------------------------------------\n",
    "exec(open('/Users/ellenwu/homework2-2/submission3/data-code/H1_HCRISv1996.py').read())\n",
    "exec(open('/Users/ellenwu/homework2-2/submission3/data-code/H1_HCRISv2010.py').read())"
   ]
  },
  {
   "cell_type": "code",
   "execution_count": 3,
   "metadata": {},
   "outputs": [],
   "source": [
    "# Read and combine data ---------------------------------------------------\n",
    "final_hcris_v1996 = pd.read_csv('/Users/ellenwu/homework2-2/data/*/output/HCRIS_v1996.csv')\n",
    "final_hcris_v2010 = pd.read_csv('/Users/ellenwu/homework2-2/data/*/output/HCRIS_v2010.csv')"
   ]
  },
  {
   "cell_type": "code",
   "execution_count": 4,
   "metadata": {},
   "outputs": [],
   "source": [
    "# Create missing variables for columns introduced in v2010\n",
    "final_hcris_v1996['hvbp_payment'] = np.nan\n",
    "final_hcris_v1996['hrrp_payment'] = np.nan"
   ]
  },
  {
   "cell_type": "code",
   "execution_count": 5,
   "metadata": {},
   "outputs": [],
   "source": [
    "# Combine v1996 and v2010 datasets\n",
    "final_hcris = pd.concat([final_hcris_v1996, final_hcris_v2010])"
   ]
  },
  {
   "cell_type": "code",
   "execution_count": 6,
   "metadata": {},
   "outputs": [],
   "source": [
    "# Convert date columns to datetime format\n",
    "for col in ['fy_end', 'fy_start', 'date_processed', 'date_created']:\n",
    "    final_hcris[col] = pd.to_datetime(final_hcris[col], format='%m/%d/%Y')"
   ]
  },
  {
   "cell_type": "code",
   "execution_count": 7,
   "metadata": {},
   "outputs": [],
   "source": [
    "# Convert to absolute values\n",
    "final_hcris['tot_discounts'] = final_hcris['tot_discounts'].abs()\n",
    "final_hcris['hrrp_payment'] = final_hcris['hrrp_payment'].abs()"
   ]
  },
  {
   "cell_type": "code",
   "execution_count": 8,
   "metadata": {},
   "outputs": [],
   "source": [
    "# Extract fiscal year and sort\n",
    "final_hcris['fyear'] = final_hcris['fy_end'].dt.year\n",
    "final_hcris = final_hcris.sort_values(by=['provider_number', 'fyear']).drop(columns=['year'], errors='ignore')"
   ]
  },
  {
   "cell_type": "code",
   "execution_count": 9,
   "metadata": {},
   "outputs": [],
   "source": [
    "# Count hospitals per year\n",
    "hospital_counts = final_hcris.groupby('fyear').size()"
   ]
  },
  {
   "cell_type": "code",
   "execution_count": 10,
   "metadata": {},
   "outputs": [],
   "source": [
    "# Clean data --------------------------------------------------------------\n",
    "\n",
    "# Create count of reports by hospital fiscal year\n",
    "final_hcris['total_reports'] = final_hcris.groupby(['provider_number', 'fyear'])['provider_number'].transform('count')\n",
    "final_hcris['report_number'] = final_hcris.groupby(['provider_number', 'fyear']).cumcount() + 1"
   ]
  },
  {
   "cell_type": "code",
   "execution_count": 11,
   "metadata": {},
   "outputs": [
    {
     "name": "stdout",
     "output_type": "stream",
     "text": [
      "      provider_number   fy_start     fy_end date_processed date_created  \\\n",
      "242             10001 2009-10-01 2010-09-30     2011-08-09   2011-08-05   \n",
      "24              10005 2009-10-01 2010-09-30     2011-03-09   2011-03-07   \n",
      "17              10007 2009-10-01 2010-09-30     2011-02-28   2011-02-28   \n",
      "162             10008 2010-01-01 2010-12-31     2011-06-15   2011-06-14   \n",
      "2844            10009 2010-02-01 2011-01-31     2014-07-30   2014-07-25   \n",
      "...               ...        ...        ...            ...          ...   \n",
      "3118           673035 2010-01-01 2010-12-31     2014-09-23   2014-09-18   \n",
      "1653           673037 2010-01-01 2010-12-31     2013-06-13   2013-06-13   \n",
      "369            673038 2009-10-01 2010-09-30     2011-12-19   2011-12-08   \n",
      "3838           673039 2009-10-30 2010-12-31     2015-06-18   2015-06-17   \n",
      "373            673040 2010-04-06 2010-12-31     2011-12-19   2011-12-16   \n",
      "\n",
      "       beds   tot_charges  tot_discounts  tot_operating_exp   ip_charges  ...  \\\n",
      "242   408.0  1.116894e+09    866681575.0        258285960.0  108561942.0  ...   \n",
      "24    114.0  2.110556e+08    144049273.0         70916850.0    9953090.0  ...   \n",
      "17     78.0  4.452468e+07     30174875.0         16902467.0    2405165.0  ...   \n",
      "162    29.0  2.750480e+07     14460509.0         13139136.0    1655117.0  ...   \n",
      "2844  130.0  1.026639e+08     81425304.0         23770873.0    2038028.0  ...   \n",
      "...     ...           ...            ...                ...          ...  ...   \n",
      "3118   42.0  3.224794e+07     18325227.0         14331926.0   17289750.0  ...   \n",
      "1653   26.0  1.253097e+07      8047614.0          6143195.0    2626050.0  ...   \n",
      "369    35.0  4.550817e+07     27933009.0         19028950.0   13667269.0  ...   \n",
      "3838   30.0  9.594502e+06      3682349.0          8300335.0    5326794.0  ...   \n",
      "373    42.0  1.555591e+07      9380331.0          8409995.0    8304000.0  ...   \n",
      "\n",
      "      secondary_mcare_payment                    street         city  state  \\\n",
      "242                  108849.0    1108 ROSS CLARK CIRCLE       DOTHAN     AL   \n",
      "24                    24568.0     2505 U.S. HIGHWAY 431         BOAZ     AL   \n",
      "17                     2690.0           702 MAIN STREET          OPP     AL   \n",
      "162                    5737.0       101 HOSPITAL CIRCLE      LUVERNE     AL   \n",
      "2844                   8370.0        201 PINE STREET NW    HARTSELLE     AL   \n",
      "...                       ...                       ...          ...    ...   \n",
      "3118                      NaN     6161 HARRY HINES BLVD       DALLAS     TX   \n",
      "1653                      NaN      1111 GALLAGHER DRIVE      SHERMAN     TX   \n",
      "369                       NaN  21720 KINGSLAND BLVD 102         KATY     TX   \n",
      "3838                      NaN    3401 DIRECTORS PARKWAY      ABILENE     TX   \n",
      "373                       NaN            19126 STONEHUE  SAN ANTONIO     TX   \n",
      "\n",
      "             zip     county  hvbp_payment hrrp_payment fyear          source  \n",
      "242       36301-    HOUSTON           NaN          NaN  2010  unique reports  \n",
      "24        35957-   MARSHALL           NaN          NaN  2010  unique reports  \n",
      "17        36462-  COVINGTON           NaN          NaN  2010  unique reports  \n",
      "162       36049-   CRENSHAW           NaN          NaN  2010  unique reports  \n",
      "2844       35640     MORGAN           NaN          NaN  2011  unique reports  \n",
      "...          ...        ...           ...          ...   ...             ...  \n",
      "3118       75235    TARRANT           NaN          NaN  2010  unique reports  \n",
      "1653  75090-1713    GRAYSON           NaN          NaN  2010  unique reports  \n",
      "369        77450     HARRIS           NaN          NaN  2010  unique reports  \n",
      "3838  79606-5869     TAYLOR           NaN          NaN  2010  unique reports  \n",
      "373        78258      BEXAR           NaN          NaN  2010  unique reports  \n",
      "\n",
      "[3795 rows x 26 columns]\n"
     ]
    }
   ],
   "source": [
    "\n",
    "# Identify hospitals with one report per year\n",
    "unique_hcris1 = final_hcris[final_hcris['total_reports'] == 1].drop(columns=['report', 'total_reports', 'report_number', 'npi', 'status'], errors='ignore')\n",
    "unique_hcris1['source'] = 'unique reports'\n",
    "print(unique_hcris1)"
   ]
  },
  {
   "cell_type": "code",
   "execution_count": 12,
   "metadata": {},
   "outputs": [
    {
     "name": "stdout",
     "output_type": "stream",
     "text": [
      "       report  provider_number  npi   fy_start     fy_end date_processed  \\\n",
      "2440   629478            10001  NaN 2016-10-01 2017-09-30     2018-07-19   \n",
      "8561   629478            10001  NaN 2016-10-01 2017-09-30     2018-07-19   \n",
      "347    620725            10005  NaN 2016-10-01 2017-09-30     2018-03-19   \n",
      "6468   620725            10005  NaN 2016-10-01 2017-09-30     2018-03-19   \n",
      "4767   639416            10006  NaN 2017-07-01 2018-06-30     2018-12-20   \n",
      "...       ...              ...  ...        ...        ...            ...   \n",
      "8708   629813           673062  NaN 2017-01-01 2017-12-31     2018-07-19   \n",
      "5065   640155           673063  NaN 2017-08-01 2018-07-31     2019-01-24   \n",
      "11186  640155           673063  NaN 2017-08-01 2018-07-31     2019-01-24   \n",
      "3052   632312           673064  NaN 2017-04-01 2018-03-31     2018-09-17   \n",
      "9173   632312           673064  NaN 2017-04-01 2018-03-31     2018-09-17   \n",
      "\n",
      "      date_created  status   beds   tot_charges  ...                   street  \\\n",
      "2440    2018-07-10       5  387.0  1.707737e+09  ...   1108 ROSS CLARK CIRCLE   \n",
      "8561    2018-07-10       5  387.0  1.707737e+09  ...   1108 ROSS CLARK CIRCLE   \n",
      "347     2018-03-12       1  204.0  5.112797e+08  ...    2505 U.S. HIGHWAY 431   \n",
      "6468    2018-03-12       1  204.0  5.112797e+08  ...    2505 U.S. HIGHWAY 431   \n",
      "4767    2018-12-13       1  358.0  7.973004e+08  ...       205 MARENGO STREET   \n",
      "...            ...     ...    ...           ...  ...                      ...   \n",
      "8708    2018-06-26       1   26.0  1.196616e+07  ...            703 EUREKA ST   \n",
      "5065    2019-01-03       1   93.0  6.214735e+07  ...    4302 PRINCETON STREET   \n",
      "11186   2019-01-03       1   93.0  6.214735e+07  ...    4302 PRINCETON STREET   \n",
      "3052    2018-09-10       1   41.0  9.417980e+06  ...  3100 PETERS COLOBY ROAD   \n",
      "9173    2018-09-10       1   41.0  9.417980e+06  ...  3100 PETERS COLOBY ROAD   \n",
      "\n",
      "               city  state         zip      county  hvbp_payment  \\\n",
      "2440         DOTHAN     AL       36301     HOUSTON      -50243.0   \n",
      "8561         DOTHAN     AL       36301     HOUSTON      -50243.0   \n",
      "347            BOAZ     AL      35957-    MARSHALL      -52278.0   \n",
      "6468           BOAZ     AL      35957-    MARSHALL      -52278.0   \n",
      "4767       FLORENCE     AL       35630  LAUDERDALE     -239493.0   \n",
      "...             ...    ...         ...         ...           ...   \n",
      "8708    WEATHERFORD     TX       76086      PARKER           NaN   \n",
      "5065        LUBBOCK     TX       79415     LUBBOCK           NaN   \n",
      "11186       LUBBOCK     TX       79415     LUBBOCK           NaN   \n",
      "3052   FLOWER MOUND     TX  75022-2949         NaN           NaN   \n",
      "9173   FLOWER MOUND     TX  75022-2949         NaN           NaN   \n",
      "\n",
      "       hrrp_payment  fyear  total_reports  report_number  \n",
      "2440       434263.0   2017              2              1  \n",
      "8561       434263.0   2017              2              2  \n",
      "347        198926.0   2017              2              1  \n",
      "6468       198926.0   2017              2              2  \n",
      "4767       421293.0   2018              2              1  \n",
      "...             ...    ...            ...            ...  \n",
      "8708            NaN   2017              2              2  \n",
      "5065            NaN   2018              2              1  \n",
      "11186           NaN   2018              2              2  \n",
      "3052            NaN   2018              2              1  \n",
      "9173            NaN   2018              2              2  \n",
      "\n",
      "[12298 rows x 30 columns]\n"
     ]
    }
   ],
   "source": [
    "# Identify hospitals with multiple reports per year\n",
    "duplicate_hcris = final_hcris[final_hcris['total_reports'] > 1].copy()\n",
    "print(duplicate_hcris)"
   ]
  },
  {
   "cell_type": "code",
   "execution_count": 13,
   "metadata": {},
   "outputs": [],
   "source": [
    "# Calculate elapsed time between fy start and fy end for hospitals with multiple reports\n",
    "duplicate_hcris['time_diff'] = (duplicate_hcris['fy_end'] - duplicate_hcris['fy_start']).dt.days\n",
    "duplicate_hcris['total_days'] = duplicate_hcris.groupby(['provider_number', 'fyear'])['time_diff'].transform('sum')"
   ]
  },
  {
   "cell_type": "code",
   "execution_count": 14,
   "metadata": {},
   "outputs": [],
   "source": [
    "# Hospitals where total days < 370, sum values\n",
    "unique_hcris2 = duplicate_hcris[duplicate_hcris['total_days'] < 370].groupby(['provider_number', 'fyear']).agg({\n",
    "    'beds': 'max', 'tot_charges': 'sum', 'tot_discounts': 'sum',\n",
    "    'tot_operating_exp': 'sum', 'ip_charges': 'sum', 'icu_charges': 'sum',\n",
    "    'ancillary_charges': 'sum', 'tot_discharges': 'sum', 'mcare_discharges': 'sum',\n",
    "    'mcaid_discharges': 'sum', 'tot_mcare_payment': 'sum',\n",
    "    'secondary_mcare_payment': 'sum', 'hvbp_payment': 'sum', 'hrrp_payment': 'sum',\n",
    "    'fy_start': 'min', 'fy_end': 'max', 'date_processed': 'max', 'date_created': 'min',\n",
    "    'street': 'first', 'city': 'first', 'state': 'first',\n",
    "    'zip': 'first', 'county': 'first'\n",
    "}).reset_index()\n",
    "unique_hcris2['source'] = 'total for year'"
   ]
  },
  {
   "cell_type": "code",
   "execution_count": 15,
   "metadata": {},
   "outputs": [],
   "source": [
    "# Hospitals with reports exceeding 370 days\n",
    "duplicate_hcris2 = duplicate_hcris[duplicate_hcris['total_days'] >= 370].copy()\n",
    "duplicate_hcris2['max_days'] = duplicate_hcris2.groupby(['provider_number', 'fyear'])['time_diff'].transform('max')\n",
    "duplicate_hcris2['max_date'] = duplicate_hcris2.groupby(['provider_number', 'fyear'])['fy_end'].transform('max')"
   ]
  },
  {
   "cell_type": "code",
   "execution_count": 16,
   "metadata": {},
   "outputs": [],
   "source": [
    "# Primary report selection\n",
    "unique_hcris3 = duplicate_hcris2[(duplicate_hcris2['max_days'] == duplicate_hcris2['time_diff']) &\n",
    "                                  (duplicate_hcris2['time_diff'] > 360) &\n",
    "                                  (duplicate_hcris2['max_date'] == duplicate_hcris2['fy_end'])]\n",
    "unique_hcris3 = unique_hcris3.drop(columns=['report', 'total_reports', 'report_number', 'npi', 'status', 'max_days', 'time_diff', 'total_days', 'max_date'], errors='ignore')\n",
    "unique_hcris3['source'] = 'primary report'"
   ]
  },
  {
   "cell_type": "code",
   "execution_count": 17,
   "metadata": {},
   "outputs": [],
   "source": [
    "# Remaining hospitals with reports covering more than one full year\n",
    "duplicate_hcris3 = duplicate_hcris2[~duplicate_hcris2.index.isin(unique_hcris3.index)].copy()\n",
    "duplicate_hcris3['time_diff'] = duplicate_hcris3['time_diff'].astype(int)\n",
    "duplicate_hcris3['total_days'] = duplicate_hcris3['total_days'].astype(int)\n",
    "\n",
    "cols_to_weight = ['tot_charges', 'tot_discounts', 'tot_operating_exp', 'ip_charges',\n",
    "                  'icu_charges', 'ancillary_charges', 'tot_discharges', 'mcare_discharges',\n",
    "                  'mcaid_discharges', 'tot_mcare_payment', 'secondary_mcare_payment',\n",
    "                  'hvbp_payment', 'hrrp_payment']\n",
    "\n",
    "duplicate_hcris3[cols_to_weight] = duplicate_hcris3[cols_to_weight].mul(\n",
    "    duplicate_hcris3['time_diff'] / duplicate_hcris3['total_days'], axis=0)"
   ]
  },
  {
   "cell_type": "code",
   "execution_count": 18,
   "metadata": {},
   "outputs": [],
   "source": [
    "# Weighted average\n",
    "unique_hcris4 = duplicate_hcris3.groupby(['provider_number', 'fyear']).agg({\n",
    "    'beds': 'max', 'tot_charges': 'sum', 'tot_discounts': 'sum',\n",
    "    'tot_operating_exp': 'sum', 'ip_charges': 'sum', 'icu_charges': 'sum',\n",
    "    'ancillary_charges': 'sum', 'tot_discharges': 'sum', 'mcare_discharges': 'sum',\n",
    "    'mcaid_discharges': 'sum', 'tot_mcare_payment': 'sum',\n",
    "    'secondary_mcare_payment': 'sum', 'hvbp_payment': 'sum', 'hrrp_payment': 'sum',\n",
    "    'fy_start': 'min', 'fy_end': 'max', 'date_processed': 'max', 'date_created': 'min',\n",
    "    'street': 'first', 'city': 'first', 'state': 'first',\n",
    "    'zip': 'first', 'county': 'first'\n",
    "}).reset_index()\n",
    "unique_hcris4['source'] = 'weighted_average'"
   ]
  },
  {
   "cell_type": "code",
   "execution_count": 19,
   "metadata": {},
   "outputs": [],
   "source": [
    "# Combine final datasets\n",
    "final_hcris_data = pd.concat([unique_hcris1, unique_hcris2, unique_hcris3, unique_hcris4])\n",
    "final_hcris_data = final_hcris_data.rename(columns={'fyear': 'year'}).sort_values(by=['provider_number', 'year'])"
   ]
  },
  {
   "cell_type": "code",
   "execution_count": 20,
   "metadata": {},
   "outputs": [],
   "source": [
    "# Save final data ---------------------------------------------------------\n",
    "final_hcris_data.to_csv('/Users/ellenwu/homework2-2/data/*/output/HCRIS_Data.csv', index=False)"
   ]
  },
  {
   "cell_type": "code",
   "execution_count": null,
   "metadata": {},
   "outputs": [],
   "source": []
  }
 ],
 "metadata": {
  "kernelspec": {
   "display_name": "base",
   "language": "python",
   "name": "python3"
  },
  "language_info": {
   "codemirror_mode": {
    "name": "ipython",
    "version": 3
   },
   "file_extension": ".py",
   "mimetype": "text/x-python",
   "name": "python",
   "nbconvert_exporter": "python",
   "pygments_lexer": "ipython3",
   "version": "3.11.4"
  }
 },
 "nbformat": 4,
 "nbformat_minor": 2
}
