{
 "cells": [
  {
   "cell_type": "code",
   "execution_count": 43,
   "metadata": {},
   "outputs": [],
   "source": [
    "import os \n",
    "import pandas as pd\n",
    "import numpy as np\n",
    "from IPython.display import Markdown, display\n",
    "import warnings\n",
    "warnings.simplefilter('ignore')"
   ]
  },
  {
   "cell_type": "code",
   "execution_count": 44,
   "metadata": {},
   "outputs": [
    {
     "name": "stdout",
     "output_type": "stream",
     "text": [
      "/Users/ellenwu/homework2-2/submission3/data-code\n"
     ]
    }
   ],
   "source": [
    "print(os.getcwd())\n"
   ]
  },
  {
   "cell_type": "code",
   "execution_count": null,
   "metadata": {},
   "outputs": [
    {
     "name": "stdout",
     "output_type": "stream",
     "text": [
      "True\n",
      "True\n"
     ]
    }
   ],
   "source": [
    "print(os.path.exists('/Users/ellenwu/homework2-2/data/*/input/HCRISv1996'))\n",
    "print(os.path.exists('/Users/ellenwu/homework2-2/data/*/input/HCRISv2010/HCRISv2010'))\n",
    "\n",
    "input(\"input to continue\")\n",
    "# Call individual scripts -------------------------------------------------\n",
    "exec(open('/Users/ellenwu/homework2-2/submission3/data-code/H1_HCRISv1996.py').read())\n",
    "exec(open('/Users/ellenwu/homework2-2/submission3/data-code/H1_HCRISv2010.py').read())"
   ]
  },
  {
   "cell_type": "code",
   "execution_count": 45,
   "metadata": {},
   "outputs": [],
   "source": [
    "# Read and combine data ---------------------------------------------------\n",
    "HCRIS_v1996 = pd.read_csv('/Users/ellenwu/homework2-2/data/*/output/HCRIS_v1996.csv')\n",
    "HCRIS_v2010 = pd.read_csv('/Users/ellenwu/homework2-2/data/*/output/HCRIS_v2010.csv')"
   ]
  },
  {
   "cell_type": "code",
   "execution_count": 46,
   "metadata": {},
   "outputs": [],
   "source": [
    "# Create missing variables for columns introduced in v2010\n",
    "HCRIS_v1996['hvbp_payment'] = np.nan\n",
    "HCRIS_v1996['hrrp_payment'] = np.nan"
   ]
  },
  {
   "cell_type": "code",
   "execution_count": 47,
   "metadata": {},
   "outputs": [],
   "source": [
    "# Combine v1996 and v2010 datasets\n",
    "HCRIS_Data = pd.concat([HCRIS_v1996, HCRIS_v2010])"
   ]
  },
  {
   "cell_type": "code",
   "execution_count": 48,
   "metadata": {},
   "outputs": [],
   "source": [
    "# Convert date columns to datetime format\n",
    "for col in ['fy_end', 'fy_start', 'date_processed', 'date_created']:\n",
    "    HCRIS_Data[col] = pd.to_datetime(HCRIS_Data[col], format='%m/%d/%Y')"
   ]
  },
  {
   "cell_type": "code",
   "execution_count": 49,
   "metadata": {},
   "outputs": [],
   "source": [
    "# Convert to absolute values\n",
    "HCRIS_Data['tot_discounts'] = HCRIS_Data['tot_discounts'].abs()\n",
    "HCRIS_Data['hrrp_payment'] = HCRIS_Data['hrrp_payment'].abs()"
   ]
  },
  {
   "cell_type": "code",
   "execution_count": 50,
   "metadata": {},
   "outputs": [],
   "source": [
    "# Extract fiscal year and sort\n",
    "HCRIS_Data['fyear'] = HCRIS_Data['fy_end'].dt.year\n",
    "HCRIS_Data = HCRIS_Data.sort_values(by=['provider_number', 'fyear']).drop(columns=['year'], errors='ignore')"
   ]
  },
  {
   "cell_type": "code",
   "execution_count": 51,
   "metadata": {},
   "outputs": [],
   "source": [
    "# Count hospitals per year\n",
    "hospital_counts = HCRIS_Data.groupby('fyear').size()"
   ]
  },
  {
   "cell_type": "code",
   "execution_count": 53,
   "metadata": {},
   "outputs": [],
   "source": [
    "# Clean data --------------------------------------------------------------\n",
    "\n",
    "# Create count of reports by hospital fiscal year\n",
    "HCRIS_Data['total_reports'] = HCRIS_Data.groupby(['provider_number', 'fyear'])['provider_number'].transform('count')\n",
    "HCRIS_Data['report_number'] = HCRIS_Data.groupby(['provider_number', 'fyear']).cumcount() + 1"
   ]
  },
  {
   "cell_type": "code",
   "execution_count": 54,
   "metadata": {},
   "outputs": [
    {
     "name": "stdout",
     "output_type": "stream",
     "text": [
      "      provider_number   fy_start     fy_end date_processed date_created  \\\n",
      "2440            10001 2016-10-01 2017-09-30     2018-07-19   2018-07-10   \n",
      "347             10005 2016-10-01 2017-09-30     2018-03-19   2018-03-12   \n",
      "4767            10006 2017-07-01 2018-06-30     2018-12-20   2018-12-13   \n",
      "136             10007 2016-10-01 2017-09-30     2018-03-07   2018-03-05   \n",
      "979             10008 2017-01-01 2017-12-31     2018-06-04   2018-05-26   \n",
      "...               ...        ...        ...            ...          ...   \n",
      "1566           673060 2017-01-01 2017-12-31     2018-06-22   2018-06-20   \n",
      "3405           673061 2017-06-01 2018-05-31     2018-11-02   2018-11-01   \n",
      "2587           673062 2017-01-01 2017-12-31     2018-07-19   2018-06-26   \n",
      "5065           673063 2017-08-01 2018-07-31     2019-01-24   2019-01-03   \n",
      "3052           673064 2017-04-01 2018-03-31     2018-09-17   2018-09-10   \n",
      "\n",
      "       beds   tot_charges  tot_discounts  tot_operating_exp   ip_charges  ...  \\\n",
      "2440  387.0  1.707737e+09   1.382630e+09        344247883.0  161489039.0  ...   \n",
      "347   204.0  5.112797e+08   3.603744e+08        159283147.0   18803635.0  ...   \n",
      "4767  358.0  7.973004e+08   6.354261e+08        144290886.0   43885444.0  ...   \n",
      "136    45.0  4.837719e+07   3.021275e+07         20712628.0    1772050.0  ...   \n",
      "979    29.0  3.093318e+07   2.247877e+07         11441012.0    1251817.0  ...   \n",
      "...     ...           ...            ...                ...          ...  ...   \n",
      "1566   40.0  2.267415e+07   7.117889e+06         13697329.0    9117498.0  ...   \n",
      "3405   45.0  5.131569e+07   3.220548e+07         18572834.0   26174360.0  ...   \n",
      "2587   26.0  1.196616e+07   4.157850e+06          6890142.0    7092183.0  ...   \n",
      "5065   93.0  6.214735e+07   3.102904e+07         29011909.0   38766000.0  ...   \n",
      "3052   41.0  9.417980e+06   4.346229e+06          6498521.0    3766800.0  ...   \n",
      "\n",
      "      secondary_mcare_payment                           street          city  \\\n",
      "2440                 118513.0           1108 ROSS CLARK CIRCLE        DOTHAN   \n",
      "347                   42861.0            2505 U.S. HIGHWAY 431          BOAZ   \n",
      "4767                  64294.0               205 MARENGO STREET      FLORENCE   \n",
      "136                     716.0                  702 MAIN STREET           OPP   \n",
      "979                       NaN      CRENSHAW COMMUNITY HOSPITAL       LUVERNE   \n",
      "...                       ...                              ...           ...   \n",
      "1566                      NaN           900 WEST ARBROOK BLVD.     ARLINGTON   \n",
      "3405                      NaN  110 E. MEDICAL CENTER BOULEVARD       WEBSTER   \n",
      "2587                      NaN                    703 EUREKA ST   WEATHERFORD   \n",
      "5065                      NaN            4302 PRINCETON STREET       LUBBOCK   \n",
      "3052                      NaN          3100 PETERS COLOBY ROAD  FLOWER MOUND   \n",
      "\n",
      "      state         zip      county  hvbp_payment hrrp_payment fyear  \\\n",
      "2440     AL       36301     HOUSTON      -50243.0     434263.0  2017   \n",
      "347      AL      35957-    MARSHALL      -52278.0     198926.0  2017   \n",
      "4767     AL       35630  LAUDERDALE     -239493.0     421293.0  2018   \n",
      "136      AL      36462-   COVINGTON       -5583.0       3167.0  2017   \n",
      "979      AL       36049    CRENSHAW           NaN       1382.0  2017   \n",
      "...     ...         ...         ...           ...          ...   ...   \n",
      "1566     TX       76018     TARRANT           NaN          NaN  2017   \n",
      "3405     TX       77598      HARRIS           NaN          NaN  2018   \n",
      "2587     TX       76086      PARKER           NaN          NaN  2017   \n",
      "5065     TX       79415     LUBBOCK           NaN          NaN  2018   \n",
      "3052     TX  75022-2949         NaN           NaN          NaN  2018   \n",
      "\n",
      "              source  \n",
      "2440  unique reports  \n",
      "347   unique reports  \n",
      "4767  unique reports  \n",
      "136   unique reports  \n",
      "979   unique reports  \n",
      "...              ...  \n",
      "1566  unique reports  \n",
      "3405  unique reports  \n",
      "2587  unique reports  \n",
      "5065  unique reports  \n",
      "3052  unique reports  \n",
      "\n",
      "[6095 rows x 26 columns]\n"
     ]
    }
   ],
   "source": [
    "\n",
    "# Identify hospitals with one report per year\n",
    "unique_hcris1 = HCRIS_Data[HCRIS_Data['total_reports'] == 1].drop(columns=['report', 'total_reports', 'report_number', 'npi', 'status'], errors='ignore')\n",
    "unique_hcris1['source'] = 'unique reports'\n",
    "print(unique_hcris1)"
   ]
  },
  {
   "cell_type": "code",
   "execution_count": 33,
   "metadata": {},
   "outputs": [
    {
     "name": "stdout",
     "output_type": "stream",
     "text": [
      "      report  provider_number  npi   fy_start     fy_end date_processed  \\\n",
      "15    603594            50313  NaN 2017-01-01 2017-04-30     2017-10-17   \n",
      "1589  628008            50313  NaN 2017-05-01 2017-12-31     2018-06-25   \n",
      "89    619590            50528  NaN 2017-01-01 2017-04-30     2018-02-28   \n",
      "1598  628017            50528  NaN 2017-05-01 2017-12-31     2018-06-25   \n",
      "14    603229            50557  NaN 2017-01-01 2017-04-30     2017-10-17   \n",
      "...      ...              ...  ...        ...        ...            ...   \n",
      "1884  628432           514001  NaN 2017-09-27 2017-12-31     2018-06-26   \n",
      "52    614315           670058  NaN 2017-01-01 2017-06-30     2018-01-19   \n",
      "2706  630024           670058  NaN 2017-07-01 2017-12-31     2018-07-24   \n",
      "53    614316           670095  NaN 2017-01-01 2017-06-30     2018-01-19   \n",
      "2712  630030           670095  NaN 2017-07-01 2017-12-31     2018-07-24   \n",
      "\n",
      "     date_created  status   beds  tot_charges  ...  \\\n",
      "15     2017-10-11       1   81.0  150375828.0  ...   \n",
      "1589   2018-06-22       1   77.0  305015418.0  ...   \n",
      "89     2018-02-26       1   44.0   80067836.0  ...   \n",
      "1598   2018-06-22       1   40.0  163061631.0  ...   \n",
      "14     2017-10-06       1  423.0  719411267.0  ...   \n",
      "...           ...     ...    ...          ...  ...   \n",
      "1884   2018-06-18       1   40.0   13122100.0  ...   \n",
      "52     2018-01-17       1    7.0   10068729.0  ...   \n",
      "2706   2018-06-30       1    7.0    9240266.0  ...   \n",
      "53     2018-01-12       1    8.0   10629044.0  ...   \n",
      "2712   2018-07-01       1    8.0   12002135.0  ...   \n",
      "\n",
      "                                street        city  state         zip  \\\n",
      "15                1420 TRACY BOULEVARD       TRACY     CA  95376-3497   \n",
      "1589              1420 TRACY BOULEVARD       TRACY     CA  95376-3497   \n",
      "89                   520 WEST I STREET   LOS BANOS     CA      93635-   \n",
      "1598                 520 WEST I STREET   LOS BANOS     CA      93635-   \n",
      "14                    1700 COFFEE ROAD     MODESTO     CA      95355-   \n",
      "...                                ...         ...    ...         ...   \n",
      "1884                   300 56TH STREET  CHARLESTON     WV      25364-   \n",
      "52     16000 SOUTHWEST FRWY  SUITE 100  SUGAR LAND     TX       77479   \n",
      "2706   16000 SOUTHWEST FRWY  SUITE 100  SUGAR LAND     TX       77479   \n",
      "53    24429 TOMBALL PARKWAY  SUITE 100     TOMBALL     TX       77375   \n",
      "2712  24429 TOMBALL PARKWAY  SUITE 100     TOMBALL     TX       77375   \n",
      "\n",
      "           county  hvbp_payment  hrrp_payment  fyear  total_reports  \\\n",
      "15    SAN JOAQUIN        -589.0        2138.0   2017              2   \n",
      "1589  SAN JOAQUIN        2304.0       13072.0   2017              2   \n",
      "89         MERCED       14797.0        1870.0   2017              2   \n",
      "1598       MERCED       25194.0        3582.0   2017              2   \n",
      "14     STANISLAUS       -7085.0       63250.0   2017              2   \n",
      "...           ...           ...           ...    ...            ...   \n",
      "1884      KANAWHA           NaN           NaN   2017              2   \n",
      "52      FORT BEND           NaN           NaN   2017              2   \n",
      "2706    FORT BEND           NaN           NaN   2017              2   \n",
      "53         HARRIS           NaN           NaN   2017              2   \n",
      "2712       HARRIS           NaN           NaN   2017              2   \n",
      "\n",
      "      report_number  \n",
      "15                1  \n",
      "1589              2  \n",
      "89                1  \n",
      "1598              2  \n",
      "14                1  \n",
      "...             ...  \n",
      "1884              2  \n",
      "52                1  \n",
      "2706              2  \n",
      "53                1  \n",
      "2712              2  \n",
      "\n",
      "[116 rows x 30 columns]\n"
     ]
    }
   ],
   "source": [
    "# Identify hospitals with multiple reports per year\n",
    "duplicate_hcris = HCRIS_Data[HCRIS_Data['total_reports'] > 1].copy()\n",
    "print(duplicate_hcris)"
   ]
  },
  {
   "cell_type": "code",
   "execution_count": 55,
   "metadata": {},
   "outputs": [],
   "source": [
    "# Calculate elapsed time between fy start and fy end for hospitals with multiple reports\n",
    "duplicate_hcris['time_diff'] = (duplicate_hcris['fy_end'] - duplicate_hcris['fy_start']).dt.days\n",
    "duplicate_hcris['total_days'] = duplicate_hcris.groupby(['provider_number', 'fyear'])['time_diff'].transform('sum')"
   ]
  },
  {
   "cell_type": "code",
   "execution_count": 56,
   "metadata": {},
   "outputs": [],
   "source": [
    "# Hospitals where total days < 370, sum values\n",
    "unique_hcris2 = duplicate_hcris[duplicate_hcris['total_days'] < 370].groupby(['provider_number', 'fyear']).agg({\n",
    "    'beds': 'max', 'tot_charges': 'sum', 'tot_discounts': 'sum',\n",
    "    'tot_operating_exp': 'sum', 'ip_charges': 'sum', 'icu_charges': 'sum',\n",
    "    'ancillary_charges': 'sum', 'tot_discharges': 'sum', 'mcare_discharges': 'sum',\n",
    "    'mcaid_discharges': 'sum', 'tot_mcare_payment': 'sum',\n",
    "    'secondary_mcare_payment': 'sum', 'hvbp_payment': 'sum', 'hrrp_payment': 'sum',\n",
    "    'fy_start': 'min', 'fy_end': 'max', 'date_processed': 'max', 'date_created': 'min',\n",
    "    'street': 'first', 'city': 'first', 'state': 'first',\n",
    "    'zip': 'first', 'county': 'first'\n",
    "}).reset_index()\n",
    "unique_hcris2['source'] = 'total for year'"
   ]
  },
  {
   "cell_type": "code",
   "execution_count": 57,
   "metadata": {},
   "outputs": [],
   "source": [
    "# Hospitals with reports exceeding 370 days\n",
    "duplicate_hcris2 = duplicate_hcris[duplicate_hcris['total_days'] >= 370].copy()\n",
    "duplicate_hcris2['max_days'] = duplicate_hcris2.groupby(['provider_number', 'fyear'])['time_diff'].transform('max')\n",
    "duplicate_hcris2['max_date'] = duplicate_hcris2.groupby(['provider_number', 'fyear'])['fy_end'].transform('max')"
   ]
  },
  {
   "cell_type": "code",
   "execution_count": 58,
   "metadata": {},
   "outputs": [],
   "source": [
    "# Primary report selection\n",
    "unique_hcris3 = duplicate_hcris2[(duplicate_hcris2['max_days'] == duplicate_hcris2['time_diff']) &\n",
    "                                  (duplicate_hcris2['time_diff'] > 360) &\n",
    "                                  (duplicate_hcris2['max_date'] == duplicate_hcris2['fy_end'])]\n",
    "unique_hcris3 = unique_hcris3.drop(columns=['report', 'total_reports', 'report_number', 'npi', 'status', 'max_days', 'time_diff', 'total_days', 'max_date'], errors='ignore')\n",
    "unique_hcris3['source'] = 'primary report'"
   ]
  },
  {
   "cell_type": "code",
   "execution_count": 59,
   "metadata": {},
   "outputs": [],
   "source": [
    "# Remaining hospitals with reports covering more than one full year\n",
    "duplicate_hcris3 = duplicate_hcris2[~duplicate_hcris2.index.isin(unique_hcris3.index)].copy()\n",
    "duplicate_hcris3['time_diff'] = duplicate_hcris3['time_diff'].astype(int)\n",
    "duplicate_hcris3['total_days'] = duplicate_hcris3['total_days'].astype(int)\n",
    "\n",
    "cols_to_weight = ['tot_charges', 'tot_discounts', 'tot_operating_exp', 'ip_charges',\n",
    "                  'icu_charges', 'ancillary_charges', 'tot_discharges', 'mcare_discharges',\n",
    "                  'mcaid_discharges', 'tot_mcare_payment', 'secondary_mcare_payment',\n",
    "                  'hvbp_payment', 'hrrp_payment']\n",
    "\n",
    "duplicate_hcris3[cols_to_weight] = duplicate_hcris3[cols_to_weight].mul(\n",
    "    duplicate_hcris3['time_diff'] / duplicate_hcris3['total_days'], axis=0)"
   ]
  },
  {
   "cell_type": "code",
   "execution_count": 60,
   "metadata": {},
   "outputs": [],
   "source": [
    "# Weighted average\n",
    "unique_hcris4 = duplicate_hcris3.groupby(['provider_number', 'fyear']).agg({\n",
    "    'beds': 'max', 'tot_charges': 'sum', 'tot_discounts': 'sum',\n",
    "    'tot_operating_exp': 'sum', 'ip_charges': 'sum', 'icu_charges': 'sum',\n",
    "    'ancillary_charges': 'sum', 'tot_discharges': 'sum', 'mcare_discharges': 'sum',\n",
    "    'mcaid_discharges': 'sum', 'tot_mcare_payment': 'sum',\n",
    "    'secondary_mcare_payment': 'sum', 'hvbp_payment': 'sum', 'hrrp_payment': 'sum',\n",
    "    'fy_start': 'min', 'fy_end': 'max', 'date_processed': 'max', 'date_created': 'min',\n",
    "    'street': 'first', 'city': 'first', 'state': 'first',\n",
    "    'zip': 'first', 'county': 'first'\n",
    "}).reset_index()\n",
    "unique_hcris4['source'] = 'weighted_average'"
   ]
  },
  {
   "cell_type": "code",
   "execution_count": 61,
   "metadata": {},
   "outputs": [],
   "source": [
    "# Combine final datasets\n",
    "HCRIS_Data = pd.concat([unique_hcris1, unique_hcris2, unique_hcris3, unique_hcris4])\n",
    "HCRIS_Data = HCRIS_Data.rename(columns={'fyear': 'year'}).sort_values(by=['provider_number', 'year'])"
   ]
  },
  {
   "cell_type": "code",
   "execution_count": 62,
   "metadata": {},
   "outputs": [],
   "source": [
    "# Save final data ---------------------------------------------------------\n",
    "HCRIS_Data.to_csv('/Users/ellenwu/homework2-2/data/*/output/HCRIS_Data.csv', index=False)"
   ]
  },
  {
   "cell_type": "code",
   "execution_count": null,
   "metadata": {},
   "outputs": [],
   "source": []
  }
 ],
 "metadata": {
  "kernelspec": {
   "display_name": "base",
   "language": "python",
   "name": "python3"
  },
  "language_info": {
   "codemirror_mode": {
    "name": "ipython",
    "version": 3
   },
   "file_extension": ".py",
   "mimetype": "text/x-python",
   "name": "python",
   "nbconvert_exporter": "python",
   "pygments_lexer": "ipython3",
   "version": "3.11.4"
  }
 },
 "nbformat": 4,
 "nbformat_minor": 2
}
