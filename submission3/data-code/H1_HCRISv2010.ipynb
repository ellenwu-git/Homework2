{
 "cells": [
  {
   "cell_type": "code",
   "execution_count": 1,
   "metadata": {},
   "outputs": [],
   "source": [
    "import pandas as pd\n",
    "import warnings\n",
    "warnings.simplefilter('ignore')"
   ]
  },
  {
   "cell_type": "code",
   "execution_count": 2,
   "metadata": {},
   "outputs": [],
   "source": [
    "# Define variables and locations\n",
    "hcris_vars = [\n",
    "    ('beds', 'S300001', '01400', '00200', 'numeric'),\n",
    "    ('tot_charges', 'G300000', '00100', '00100', 'numeric'),\n",
    "    ('tot_discounts', 'G300000', '00200', '00100', 'numeric'),\n",
    "    ('tot_operating_exp', 'G300000', '00400', '00100', 'numeric'),\n",
    "    ('ip_charges', 'G200000', '00100', '00100', 'numeric'),\n",
    "    ('icu_charges', 'G200000', '01600', '00100', 'numeric'),\n",
    "    ('ancillary_charges', 'G200000', '01800', '00100', 'numeric'),\n",
    "    ('tot_discharges', 'S300001', '00100', '01500', 'numeric'),\n",
    "    ('mcare_discharges', 'S300001', '00100', '01300', 'numeric'),\n",
    "    ('mcaid_discharges', 'S300001', '00100', '01400', 'numeric'),\n",
    "    ('tot_mcare_payment', 'E00A18A', '05900', '00100', 'numeric'),\n",
    "    ('secondary_mcare_payment', 'E00A18A', '06000', '00100', 'numeric'),\n",
    "    ('street', 'S200001', '00100', '00100', 'alpha'),\n",
    "    ('city', 'S200001', '00200', '00100', 'alpha'),\n",
    "    ('state', 'S200001', '00200', '00200', 'alpha'),\n",
    "    ('zip', 'S200001', '00200', '00300', 'alpha'),\n",
    "    ('county', 'S200001', '00200', '00400', 'alpha'),\n",
    "    ('hvbp_payment', 'E00A18A', '07093', '00100', 'numeric'),\n",
    "    ('hrrp_payment', 'E00A18A', '07094', '00100', 'numeric')\n",
    "]"
   ]
  },
  {
   "cell_type": "code",
   "execution_count": 3,
   "metadata": {},
   "outputs": [],
   "source": [
    "hcris_vars_df = pd.DataFrame(hcris_vars, columns=[\"variable\", \"WKSHT_CD\", \"LINE_NUM\", \"CLMN_NUM\", \"source\"])"
   ]
  },
  {
   "cell_type": "code",
   "execution_count": 4,
   "metadata": {},
   "outputs": [],
   "source": [
    "# Pull relevant data\n",
    "final_hcris_v2010 = pd.DataFrame()"
   ]
  },
  {
   "cell_type": "code",
   "execution_count": 14,
   "metadata": {},
   "outputs": [
    {
     "name": "stdout",
     "output_type": "stream",
     "text": [
      "Processing year: 2010\n",
      "Processing year: 2011\n",
      "Processing year: 2012\n",
      "Processing year: 2013\n",
      "Processing year: 2014\n",
      "Processing year: 2015\n",
      "Processing year: 2016\n",
      "Processing year: 2017\n"
     ]
    }
   ],
   "source": [
    "for year in range(2010, 2018):\n",
    "    print(f\"Processing year: {year}\")\n",
    "    alpha_path = f\"/Users/ellenwu/homework2-2/data/*/input/HCRISv2010/HCRISv2010/HospitalFY{year}/hosp10_{year}_ALPHA.CSV\"\n",
    "    numeric_path = f\"/Users/ellenwu/homework2-2/data/*/input/HCRISv2010/HCRISv2010/HospitalFY{year}/hosp10_{year}_NMRC.CSV\"\n",
    "    report_path = f\"/Users/ellenwu/homework2-2/data/*/input/HCRISv2010/HCRISv2010/HospitalFY{year}/hosp10_{year}_RPT.CSV\"\n",
    "\n",
    "    col_names = ['RPT_REC_NUM', 'WKSHT_CD', 'LINE_NUM', 'CLMN_NUM', 'ITM_VAL_NUM']\n",
    "    hcris_alpha = pd.read_csv(alpha_path, names= col_names, dtype=str)\n",
    "    hcris_numeric = pd.read_csv(numeric_path, names=col_names, dtype=str)\n",
    "    hcris_report = pd.read_csv(report_path, names=['RPT_REC_NUM', 'PRVDR_CTRL_TYPE_CD', 'PRVDR_NUM', 'NPI',\n",
    "                                                   'RPT_STUS_CD', 'FY_BGN_DT', 'FY_END_DT', 'PROC_DT',\n",
    "                                                   'INITL_RPT_SW', 'LAST_RPT_SW', 'TRNSMTL_NUM', 'FI_NUM',\n",
    "                                                   'ADR_VNDR_CD', 'FI_CREAT_DT', 'UTIL_CD', 'NPR_DT',\n",
    "                                                   'SPEC_IND', 'FI_RCPT_DT'],dtype=str)"
   ]
  },
  {
   "cell_type": "code",
   "execution_count": 8,
   "metadata": {},
   "outputs": [],
   "source": [
    "final_reports = hcris_report[['RPT_REC_NUM', 'PRVDR_NUM', 'NPI', 'FY_BGN_DT', 'FY_END_DT', 'PROC_DT', 'FI_CREAT_DT', 'RPT_STUS_CD']]\n",
    "final_reports.columns = ['report', 'provider_number', 'npi', 'fy_start', 'fy_end', 'date_processed', 'date_created', 'status']\n",
    "final_reports['year'] = year"
   ]
  },
  {
   "cell_type": "code",
   "execution_count": 9,
   "metadata": {},
   "outputs": [],
   "source": [
    "for _, row in hcris_vars_df.iterrows():\n",
    "        hcris_data = hcris_numeric if row['source'] == 'numeric' else hcris_alpha\n",
    "        val = hcris_data[(hcris_data['WKSHT_CD'] == row['WKSHT_CD']) & \n",
    "                         (hcris_data['LINE_NUM'] == row['LINE_NUM']) & \n",
    "                         (hcris_data['CLMN_NUM'] == row['CLMN_NUM'])]\n",
    "        val = val[['RPT_REC_NUM', 'ITM_VAL_NUM']].rename(columns={'RPT_REC_NUM': 'report', 'ITM_VAL_NUM': row['variable']})\n",
    "        final_reports = final_reports.merge(val, on='report', how='left')\n",
    "        if row['source'] == 'numeric':\n",
    "            final_reports[row['variable']] = final_reports[row['variable']].astype(float)"
   ]
  },
  {
   "cell_type": "code",
   "execution_count": 11,
   "metadata": {},
   "outputs": [],
   "source": [
    "final_hcris_v2010 = pd.concat([final_hcris_v2010, final_reports], ignore_index=True)"
   ]
  },
  {
   "cell_type": "code",
   "execution_count": 12,
   "metadata": {},
   "outputs": [],
   "source": [
    "final_hcris_v2010.to_csv('/Users/ellenwu/homework2-2/data/*/output/HCRIS_v2010.csv', index=False)"
   ]
  },
  {
   "cell_type": "code",
   "execution_count": null,
   "metadata": {},
   "outputs": [],
   "source": []
  }
 ],
 "metadata": {
  "kernelspec": {
   "display_name": "base",
   "language": "python",
   "name": "python3"
  },
  "language_info": {
   "codemirror_mode": {
    "name": "ipython",
    "version": 3
   },
   "file_extension": ".py",
   "mimetype": "text/x-python",
   "name": "python",
   "nbconvert_exporter": "python",
   "pygments_lexer": "ipython3",
   "version": "3.11.4"
  }
 },
 "nbformat": 4,
 "nbformat_minor": 2
}
